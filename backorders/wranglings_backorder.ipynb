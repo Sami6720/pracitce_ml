{
 "cells": [
  {
   "cell_type": "markdown",
   "id": "edfbdc24",
   "metadata": {},
   "source": [
    "# Wrangling Backorder Data"
   ]
  },
  {
   "cell_type": "code",
   "execution_count": 520,
   "id": "e28618d2",
   "metadata": {},
   "outputs": [],
   "source": [
    "import pandas as pd\n",
    "import matplotlib.pyplot as plt\n",
    "import seaborn as sns\n",
    "import numpy as np\n",
    "import sklearn\n",
    "from sklearn.model_selection import train_test_split\n",
    "from sklearn.preprocessing import StandardScaler, OneHotEncoder\n",
    "from sklearn.compose import make_column_transformer\n",
    "from sklearn.pipeline import make_pipeline\n",
    "from sklearn.linear_model import LogisticRegression\n",
    "from sklearn.model_selection import cross_val_score\n",
    "from sklearn.multiclass import OneVsRestClassifier\n",
    "from sklearn import tree\n",
    "from sklearn.metrics import confusion_matrix\n",
    "from sklearn.ensemble import RandomForestClassifier\n",
    "from sklearn.svm import SVC\n",
    "from imblearn.under_sampling import RandomUnderSampler\n",
    "from sklearn.impute import KNNImputer\n",
    "from sklearn.impute import SimpleImputer\n",
    "from sklearn.naive_bayes import GaussianNB\n",
    "from sklearn.metrics import roc_auc_score, roc_curve\n",
    "warnings.filterwarnings('ignore')\n",
    "warnings.simplefilter('ignore')"
   ]
  },
  {
   "cell_type": "code",
   "execution_count": 521,
   "id": "40b1e73c",
   "metadata": {},
   "outputs": [
    {
     "name": "stderr",
     "output_type": "stream",
     "text": [
      "C:\\Users\\Asus\\AppData\\Local\\Temp\\ipykernel_21416\\2470988791.py:1: DtypeWarning: Columns (0) have mixed types. Specify dtype option on import or set low_memory=False.\n",
      "  df=pd.read_csv('training.csv')\n"
     ]
    }
   ],
   "source": [
    "df=pd.read_csv('training.csv')"
   ]
  },
  {
   "cell_type": "code",
   "execution_count": 522,
   "id": "b8d4a07d",
   "metadata": {},
   "outputs": [
    {
     "name": "stdout",
     "output_type": "stream",
     "text": [
      "<class 'pandas.core.frame.DataFrame'>\n",
      "RangeIndex: 1687861 entries, 0 to 1687860\n",
      "Data columns (total 23 columns):\n",
      " #   Column             Non-Null Count    Dtype  \n",
      "---  ------             --------------    -----  \n",
      " 0   sku                1687861 non-null  object \n",
      " 1   national_inv       1687860 non-null  float64\n",
      " 2   lead_time          1586967 non-null  float64\n",
      " 3   in_transit_qty     1687860 non-null  float64\n",
      " 4   forecast_3_month   1687860 non-null  float64\n",
      " 5   forecast_6_month   1687860 non-null  float64\n",
      " 6   forecast_9_month   1687860 non-null  float64\n",
      " 7   sales_1_month      1687860 non-null  float64\n",
      " 8   sales_3_month      1687860 non-null  float64\n",
      " 9   sales_6_month      1687860 non-null  float64\n",
      " 10  sales_9_month      1687860 non-null  float64\n",
      " 11  min_bank           1687860 non-null  float64\n",
      " 12  potential_issue    1687860 non-null  object \n",
      " 13  pieces_past_due    1687860 non-null  float64\n",
      " 14  perf_6_month_avg   1687860 non-null  float64\n",
      " 15  perf_12_month_avg  1687860 non-null  float64\n",
      " 16  local_bo_qty       1687860 non-null  float64\n",
      " 17  deck_risk          1687860 non-null  object \n",
      " 18  oe_constraint      1687860 non-null  object \n",
      " 19  ppap_risk          1687860 non-null  object \n",
      " 20  stop_auto_buy      1687860 non-null  object \n",
      " 21  rev_stop           1687860 non-null  object \n",
      " 22  went_on_backorder  1687860 non-null  object \n",
      "dtypes: float64(15), object(8)\n",
      "memory usage: 296.2+ MB\n"
     ]
    }
   ],
   "source": [
    "df.info()"
   ]
  },
  {
   "cell_type": "code",
   "execution_count": 523,
   "id": "8228a313",
   "metadata": {},
   "outputs": [
    {
     "data": {
      "text/html": [
       "<div>\n",
       "<style scoped>\n",
       "    .dataframe tbody tr th:only-of-type {\n",
       "        vertical-align: middle;\n",
       "    }\n",
       "\n",
       "    .dataframe tbody tr th {\n",
       "        vertical-align: top;\n",
       "    }\n",
       "\n",
       "    .dataframe thead th {\n",
       "        text-align: right;\n",
       "    }\n",
       "</style>\n",
       "<table border=\"1\" class=\"dataframe\">\n",
       "  <thead>\n",
       "    <tr style=\"text-align: right;\">\n",
       "      <th></th>\n",
       "      <th>national_inv</th>\n",
       "      <th>lead_time</th>\n",
       "      <th>in_transit_qty</th>\n",
       "      <th>forecast_3_month</th>\n",
       "      <th>forecast_6_month</th>\n",
       "      <th>forecast_9_month</th>\n",
       "      <th>sales_1_month</th>\n",
       "      <th>sales_3_month</th>\n",
       "      <th>sales_6_month</th>\n",
       "      <th>sales_9_month</th>\n",
       "      <th>min_bank</th>\n",
       "      <th>pieces_past_due</th>\n",
       "      <th>perf_6_month_avg</th>\n",
       "      <th>perf_12_month_avg</th>\n",
       "      <th>local_bo_qty</th>\n",
       "    </tr>\n",
       "  </thead>\n",
       "  <tbody>\n",
       "    <tr>\n",
       "      <th>count</th>\n",
       "      <td>1.687860e+06</td>\n",
       "      <td>1.586967e+06</td>\n",
       "      <td>1.687860e+06</td>\n",
       "      <td>1.687860e+06</td>\n",
       "      <td>1.687860e+06</td>\n",
       "      <td>1.687860e+06</td>\n",
       "      <td>1.687860e+06</td>\n",
       "      <td>1.687860e+06</td>\n",
       "      <td>1.687860e+06</td>\n",
       "      <td>1.687860e+06</td>\n",
       "      <td>1.687860e+06</td>\n",
       "      <td>1.687860e+06</td>\n",
       "      <td>1.687860e+06</td>\n",
       "      <td>1.687860e+06</td>\n",
       "      <td>1.687860e+06</td>\n",
       "    </tr>\n",
       "    <tr>\n",
       "      <th>mean</th>\n",
       "      <td>4.961118e+02</td>\n",
       "      <td>7.872267e+00</td>\n",
       "      <td>4.405202e+01</td>\n",
       "      <td>1.781193e+02</td>\n",
       "      <td>3.449867e+02</td>\n",
       "      <td>5.063644e+02</td>\n",
       "      <td>5.592607e+01</td>\n",
       "      <td>1.750259e+02</td>\n",
       "      <td>3.417288e+02</td>\n",
       "      <td>5.252697e+02</td>\n",
       "      <td>5.277230e+01</td>\n",
       "      <td>2.043724e+00</td>\n",
       "      <td>-6.872059e+00</td>\n",
       "      <td>-6.437947e+00</td>\n",
       "      <td>6.264507e-01</td>\n",
       "    </tr>\n",
       "    <tr>\n",
       "      <th>std</th>\n",
       "      <td>2.961523e+04</td>\n",
       "      <td>7.056024e+00</td>\n",
       "      <td>1.342742e+03</td>\n",
       "      <td>5.026553e+03</td>\n",
       "      <td>9.795152e+03</td>\n",
       "      <td>1.437892e+04</td>\n",
       "      <td>1.928196e+03</td>\n",
       "      <td>5.192378e+03</td>\n",
       "      <td>9.613167e+03</td>\n",
       "      <td>1.483861e+04</td>\n",
       "      <td>1.254983e+03</td>\n",
       "      <td>2.360165e+02</td>\n",
       "      <td>2.655636e+01</td>\n",
       "      <td>2.584333e+01</td>\n",
       "      <td>3.372224e+01</td>\n",
       "    </tr>\n",
       "    <tr>\n",
       "      <th>min</th>\n",
       "      <td>-2.725600e+04</td>\n",
       "      <td>0.000000e+00</td>\n",
       "      <td>0.000000e+00</td>\n",
       "      <td>0.000000e+00</td>\n",
       "      <td>0.000000e+00</td>\n",
       "      <td>0.000000e+00</td>\n",
       "      <td>0.000000e+00</td>\n",
       "      <td>0.000000e+00</td>\n",
       "      <td>0.000000e+00</td>\n",
       "      <td>0.000000e+00</td>\n",
       "      <td>0.000000e+00</td>\n",
       "      <td>0.000000e+00</td>\n",
       "      <td>-9.900000e+01</td>\n",
       "      <td>-9.900000e+01</td>\n",
       "      <td>0.000000e+00</td>\n",
       "    </tr>\n",
       "    <tr>\n",
       "      <th>25%</th>\n",
       "      <td>4.000000e+00</td>\n",
       "      <td>4.000000e+00</td>\n",
       "      <td>0.000000e+00</td>\n",
       "      <td>0.000000e+00</td>\n",
       "      <td>0.000000e+00</td>\n",
       "      <td>0.000000e+00</td>\n",
       "      <td>0.000000e+00</td>\n",
       "      <td>0.000000e+00</td>\n",
       "      <td>0.000000e+00</td>\n",
       "      <td>0.000000e+00</td>\n",
       "      <td>0.000000e+00</td>\n",
       "      <td>0.000000e+00</td>\n",
       "      <td>6.300000e-01</td>\n",
       "      <td>6.600000e-01</td>\n",
       "      <td>0.000000e+00</td>\n",
       "    </tr>\n",
       "    <tr>\n",
       "      <th>50%</th>\n",
       "      <td>1.500000e+01</td>\n",
       "      <td>8.000000e+00</td>\n",
       "      <td>0.000000e+00</td>\n",
       "      <td>0.000000e+00</td>\n",
       "      <td>0.000000e+00</td>\n",
       "      <td>0.000000e+00</td>\n",
       "      <td>0.000000e+00</td>\n",
       "      <td>1.000000e+00</td>\n",
       "      <td>2.000000e+00</td>\n",
       "      <td>4.000000e+00</td>\n",
       "      <td>0.000000e+00</td>\n",
       "      <td>0.000000e+00</td>\n",
       "      <td>8.200000e-01</td>\n",
       "      <td>8.100000e-01</td>\n",
       "      <td>0.000000e+00</td>\n",
       "    </tr>\n",
       "    <tr>\n",
       "      <th>75%</th>\n",
       "      <td>8.000000e+01</td>\n",
       "      <td>9.000000e+00</td>\n",
       "      <td>0.000000e+00</td>\n",
       "      <td>4.000000e+00</td>\n",
       "      <td>1.200000e+01</td>\n",
       "      <td>2.000000e+01</td>\n",
       "      <td>4.000000e+00</td>\n",
       "      <td>1.500000e+01</td>\n",
       "      <td>3.100000e+01</td>\n",
       "      <td>4.700000e+01</td>\n",
       "      <td>3.000000e+00</td>\n",
       "      <td>0.000000e+00</td>\n",
       "      <td>9.700000e-01</td>\n",
       "      <td>9.500000e-01</td>\n",
       "      <td>0.000000e+00</td>\n",
       "    </tr>\n",
       "    <tr>\n",
       "      <th>max</th>\n",
       "      <td>1.233440e+07</td>\n",
       "      <td>5.200000e+01</td>\n",
       "      <td>4.894080e+05</td>\n",
       "      <td>1.427612e+06</td>\n",
       "      <td>2.461360e+06</td>\n",
       "      <td>3.777304e+06</td>\n",
       "      <td>7.417740e+05</td>\n",
       "      <td>1.105478e+06</td>\n",
       "      <td>2.146625e+06</td>\n",
       "      <td>3.205172e+06</td>\n",
       "      <td>3.133190e+05</td>\n",
       "      <td>1.464960e+05</td>\n",
       "      <td>1.000000e+00</td>\n",
       "      <td>1.000000e+00</td>\n",
       "      <td>1.253000e+04</td>\n",
       "    </tr>\n",
       "  </tbody>\n",
       "</table>\n",
       "</div>"
      ],
      "text/plain": [
       "       national_inv     lead_time  in_transit_qty  forecast_3_month  \\\n",
       "count  1.687860e+06  1.586967e+06    1.687860e+06      1.687860e+06   \n",
       "mean   4.961118e+02  7.872267e+00    4.405202e+01      1.781193e+02   \n",
       "std    2.961523e+04  7.056024e+00    1.342742e+03      5.026553e+03   \n",
       "min   -2.725600e+04  0.000000e+00    0.000000e+00      0.000000e+00   \n",
       "25%    4.000000e+00  4.000000e+00    0.000000e+00      0.000000e+00   \n",
       "50%    1.500000e+01  8.000000e+00    0.000000e+00      0.000000e+00   \n",
       "75%    8.000000e+01  9.000000e+00    0.000000e+00      4.000000e+00   \n",
       "max    1.233440e+07  5.200000e+01    4.894080e+05      1.427612e+06   \n",
       "\n",
       "       forecast_6_month  forecast_9_month  sales_1_month  sales_3_month  \\\n",
       "count      1.687860e+06      1.687860e+06   1.687860e+06   1.687860e+06   \n",
       "mean       3.449867e+02      5.063644e+02   5.592607e+01   1.750259e+02   \n",
       "std        9.795152e+03      1.437892e+04   1.928196e+03   5.192378e+03   \n",
       "min        0.000000e+00      0.000000e+00   0.000000e+00   0.000000e+00   \n",
       "25%        0.000000e+00      0.000000e+00   0.000000e+00   0.000000e+00   \n",
       "50%        0.000000e+00      0.000000e+00   0.000000e+00   1.000000e+00   \n",
       "75%        1.200000e+01      2.000000e+01   4.000000e+00   1.500000e+01   \n",
       "max        2.461360e+06      3.777304e+06   7.417740e+05   1.105478e+06   \n",
       "\n",
       "       sales_6_month  sales_9_month      min_bank  pieces_past_due  \\\n",
       "count   1.687860e+06   1.687860e+06  1.687860e+06     1.687860e+06   \n",
       "mean    3.417288e+02   5.252697e+02  5.277230e+01     2.043724e+00   \n",
       "std     9.613167e+03   1.483861e+04  1.254983e+03     2.360165e+02   \n",
       "min     0.000000e+00   0.000000e+00  0.000000e+00     0.000000e+00   \n",
       "25%     0.000000e+00   0.000000e+00  0.000000e+00     0.000000e+00   \n",
       "50%     2.000000e+00   4.000000e+00  0.000000e+00     0.000000e+00   \n",
       "75%     3.100000e+01   4.700000e+01  3.000000e+00     0.000000e+00   \n",
       "max     2.146625e+06   3.205172e+06  3.133190e+05     1.464960e+05   \n",
       "\n",
       "       perf_6_month_avg  perf_12_month_avg  local_bo_qty  \n",
       "count      1.687860e+06       1.687860e+06  1.687860e+06  \n",
       "mean      -6.872059e+00      -6.437947e+00  6.264507e-01  \n",
       "std        2.655636e+01       2.584333e+01  3.372224e+01  \n",
       "min       -9.900000e+01      -9.900000e+01  0.000000e+00  \n",
       "25%        6.300000e-01       6.600000e-01  0.000000e+00  \n",
       "50%        8.200000e-01       8.100000e-01  0.000000e+00  \n",
       "75%        9.700000e-01       9.500000e-01  0.000000e+00  \n",
       "max        1.000000e+00       1.000000e+00  1.253000e+04  "
      ]
     },
     "execution_count": 523,
     "metadata": {},
     "output_type": "execute_result"
    }
   ],
   "source": [
    "df.describe()"
   ]
  },
  {
   "cell_type": "markdown",
   "id": "f8470380",
   "metadata": {},
   "source": [
    "## Cleaning"
   ]
  },
  {
   "cell_type": "code",
   "execution_count": 524,
   "id": "541895d9",
   "metadata": {},
   "outputs": [],
   "source": [
    "# Drop rows where all values are nan\n",
    "\n",
    "df.drop(['sku'], axis=1, inplace=True)\n",
    "df.dropna(how='all', inplace=True)"
   ]
  },
  {
   "cell_type": "code",
   "execution_count": 525,
   "id": "55695fde",
   "metadata": {},
   "outputs": [
    {
     "data": {
      "text/html": [
       "<div>\n",
       "<style scoped>\n",
       "    .dataframe tbody tr th:only-of-type {\n",
       "        vertical-align: middle;\n",
       "    }\n",
       "\n",
       "    .dataframe tbody tr th {\n",
       "        vertical-align: top;\n",
       "    }\n",
       "\n",
       "    .dataframe thead th {\n",
       "        text-align: right;\n",
       "    }\n",
       "</style>\n",
       "<table border=\"1\" class=\"dataframe\">\n",
       "  <thead>\n",
       "    <tr style=\"text-align: right;\">\n",
       "      <th></th>\n",
       "      <th>national_inv</th>\n",
       "      <th>lead_time</th>\n",
       "      <th>in_transit_qty</th>\n",
       "      <th>forecast_3_month</th>\n",
       "      <th>forecast_6_month</th>\n",
       "      <th>forecast_9_month</th>\n",
       "      <th>sales_1_month</th>\n",
       "      <th>sales_3_month</th>\n",
       "      <th>sales_6_month</th>\n",
       "      <th>sales_9_month</th>\n",
       "      <th>...</th>\n",
       "      <th>pieces_past_due</th>\n",
       "      <th>perf_6_month_avg</th>\n",
       "      <th>perf_12_month_avg</th>\n",
       "      <th>local_bo_qty</th>\n",
       "      <th>deck_risk</th>\n",
       "      <th>oe_constraint</th>\n",
       "      <th>ppap_risk</th>\n",
       "      <th>stop_auto_buy</th>\n",
       "      <th>rev_stop</th>\n",
       "      <th>went_on_backorder</th>\n",
       "    </tr>\n",
       "  </thead>\n",
       "  <tbody>\n",
       "    <tr>\n",
       "      <th>0</th>\n",
       "      <td>0.0</td>\n",
       "      <td>NaN</td>\n",
       "      <td>0.0</td>\n",
       "      <td>0.0</td>\n",
       "      <td>0.0</td>\n",
       "      <td>0.0</td>\n",
       "      <td>0.0</td>\n",
       "      <td>0.0</td>\n",
       "      <td>0.0</td>\n",
       "      <td>0.0</td>\n",
       "      <td>...</td>\n",
       "      <td>0.0</td>\n",
       "      <td>-99.00</td>\n",
       "      <td>-99.00</td>\n",
       "      <td>0.0</td>\n",
       "      <td>No</td>\n",
       "      <td>No</td>\n",
       "      <td>No</td>\n",
       "      <td>Yes</td>\n",
       "      <td>No</td>\n",
       "      <td>No</td>\n",
       "    </tr>\n",
       "    <tr>\n",
       "      <th>1</th>\n",
       "      <td>2.0</td>\n",
       "      <td>9.0</td>\n",
       "      <td>0.0</td>\n",
       "      <td>0.0</td>\n",
       "      <td>0.0</td>\n",
       "      <td>0.0</td>\n",
       "      <td>0.0</td>\n",
       "      <td>0.0</td>\n",
       "      <td>0.0</td>\n",
       "      <td>0.0</td>\n",
       "      <td>...</td>\n",
       "      <td>0.0</td>\n",
       "      <td>0.99</td>\n",
       "      <td>0.99</td>\n",
       "      <td>0.0</td>\n",
       "      <td>No</td>\n",
       "      <td>No</td>\n",
       "      <td>No</td>\n",
       "      <td>Yes</td>\n",
       "      <td>No</td>\n",
       "      <td>No</td>\n",
       "    </tr>\n",
       "    <tr>\n",
       "      <th>2</th>\n",
       "      <td>2.0</td>\n",
       "      <td>NaN</td>\n",
       "      <td>0.0</td>\n",
       "      <td>0.0</td>\n",
       "      <td>0.0</td>\n",
       "      <td>0.0</td>\n",
       "      <td>0.0</td>\n",
       "      <td>0.0</td>\n",
       "      <td>0.0</td>\n",
       "      <td>0.0</td>\n",
       "      <td>...</td>\n",
       "      <td>0.0</td>\n",
       "      <td>-99.00</td>\n",
       "      <td>-99.00</td>\n",
       "      <td>0.0</td>\n",
       "      <td>Yes</td>\n",
       "      <td>No</td>\n",
       "      <td>No</td>\n",
       "      <td>Yes</td>\n",
       "      <td>No</td>\n",
       "      <td>No</td>\n",
       "    </tr>\n",
       "    <tr>\n",
       "      <th>3</th>\n",
       "      <td>7.0</td>\n",
       "      <td>8.0</td>\n",
       "      <td>0.0</td>\n",
       "      <td>0.0</td>\n",
       "      <td>0.0</td>\n",
       "      <td>0.0</td>\n",
       "      <td>0.0</td>\n",
       "      <td>0.0</td>\n",
       "      <td>0.0</td>\n",
       "      <td>0.0</td>\n",
       "      <td>...</td>\n",
       "      <td>0.0</td>\n",
       "      <td>0.10</td>\n",
       "      <td>0.13</td>\n",
       "      <td>0.0</td>\n",
       "      <td>No</td>\n",
       "      <td>No</td>\n",
       "      <td>No</td>\n",
       "      <td>Yes</td>\n",
       "      <td>No</td>\n",
       "      <td>No</td>\n",
       "    </tr>\n",
       "    <tr>\n",
       "      <th>4</th>\n",
       "      <td>8.0</td>\n",
       "      <td>NaN</td>\n",
       "      <td>0.0</td>\n",
       "      <td>0.0</td>\n",
       "      <td>0.0</td>\n",
       "      <td>0.0</td>\n",
       "      <td>0.0</td>\n",
       "      <td>0.0</td>\n",
       "      <td>0.0</td>\n",
       "      <td>4.0</td>\n",
       "      <td>...</td>\n",
       "      <td>0.0</td>\n",
       "      <td>-99.00</td>\n",
       "      <td>-99.00</td>\n",
       "      <td>0.0</td>\n",
       "      <td>Yes</td>\n",
       "      <td>No</td>\n",
       "      <td>No</td>\n",
       "      <td>Yes</td>\n",
       "      <td>No</td>\n",
       "      <td>No</td>\n",
       "    </tr>\n",
       "    <tr>\n",
       "      <th>...</th>\n",
       "      <td>...</td>\n",
       "      <td>...</td>\n",
       "      <td>...</td>\n",
       "      <td>...</td>\n",
       "      <td>...</td>\n",
       "      <td>...</td>\n",
       "      <td>...</td>\n",
       "      <td>...</td>\n",
       "      <td>...</td>\n",
       "      <td>...</td>\n",
       "      <td>...</td>\n",
       "      <td>...</td>\n",
       "      <td>...</td>\n",
       "      <td>...</td>\n",
       "      <td>...</td>\n",
       "      <td>...</td>\n",
       "      <td>...</td>\n",
       "      <td>...</td>\n",
       "      <td>...</td>\n",
       "      <td>...</td>\n",
       "      <td>...</td>\n",
       "    </tr>\n",
       "    <tr>\n",
       "      <th>1687855</th>\n",
       "      <td>0.0</td>\n",
       "      <td>2.0</td>\n",
       "      <td>0.0</td>\n",
       "      <td>10.0</td>\n",
       "      <td>10.0</td>\n",
       "      <td>10.0</td>\n",
       "      <td>0.0</td>\n",
       "      <td>5.0</td>\n",
       "      <td>7.0</td>\n",
       "      <td>7.0</td>\n",
       "      <td>...</td>\n",
       "      <td>0.0</td>\n",
       "      <td>0.69</td>\n",
       "      <td>0.69</td>\n",
       "      <td>5.0</td>\n",
       "      <td>Yes</td>\n",
       "      <td>No</td>\n",
       "      <td>No</td>\n",
       "      <td>Yes</td>\n",
       "      <td>No</td>\n",
       "      <td>No</td>\n",
       "    </tr>\n",
       "    <tr>\n",
       "      <th>1687856</th>\n",
       "      <td>-1.0</td>\n",
       "      <td>NaN</td>\n",
       "      <td>0.0</td>\n",
       "      <td>5.0</td>\n",
       "      <td>7.0</td>\n",
       "      <td>9.0</td>\n",
       "      <td>1.0</td>\n",
       "      <td>3.0</td>\n",
       "      <td>3.0</td>\n",
       "      <td>8.0</td>\n",
       "      <td>...</td>\n",
       "      <td>0.0</td>\n",
       "      <td>-99.00</td>\n",
       "      <td>-99.00</td>\n",
       "      <td>1.0</td>\n",
       "      <td>No</td>\n",
       "      <td>No</td>\n",
       "      <td>No</td>\n",
       "      <td>Yes</td>\n",
       "      <td>No</td>\n",
       "      <td>No</td>\n",
       "    </tr>\n",
       "    <tr>\n",
       "      <th>1687857</th>\n",
       "      <td>-1.0</td>\n",
       "      <td>9.0</td>\n",
       "      <td>0.0</td>\n",
       "      <td>7.0</td>\n",
       "      <td>9.0</td>\n",
       "      <td>11.0</td>\n",
       "      <td>0.0</td>\n",
       "      <td>8.0</td>\n",
       "      <td>11.0</td>\n",
       "      <td>12.0</td>\n",
       "      <td>...</td>\n",
       "      <td>0.0</td>\n",
       "      <td>0.86</td>\n",
       "      <td>0.84</td>\n",
       "      <td>1.0</td>\n",
       "      <td>Yes</td>\n",
       "      <td>No</td>\n",
       "      <td>No</td>\n",
       "      <td>No</td>\n",
       "      <td>No</td>\n",
       "      <td>Yes</td>\n",
       "    </tr>\n",
       "    <tr>\n",
       "      <th>1687858</th>\n",
       "      <td>62.0</td>\n",
       "      <td>9.0</td>\n",
       "      <td>16.0</td>\n",
       "      <td>39.0</td>\n",
       "      <td>87.0</td>\n",
       "      <td>126.0</td>\n",
       "      <td>35.0</td>\n",
       "      <td>63.0</td>\n",
       "      <td>153.0</td>\n",
       "      <td>205.0</td>\n",
       "      <td>...</td>\n",
       "      <td>0.0</td>\n",
       "      <td>0.86</td>\n",
       "      <td>0.84</td>\n",
       "      <td>6.0</td>\n",
       "      <td>No</td>\n",
       "      <td>No</td>\n",
       "      <td>No</td>\n",
       "      <td>Yes</td>\n",
       "      <td>No</td>\n",
       "      <td>No</td>\n",
       "    </tr>\n",
       "    <tr>\n",
       "      <th>1687859</th>\n",
       "      <td>19.0</td>\n",
       "      <td>4.0</td>\n",
       "      <td>0.0</td>\n",
       "      <td>0.0</td>\n",
       "      <td>0.0</td>\n",
       "      <td>0.0</td>\n",
       "      <td>2.0</td>\n",
       "      <td>7.0</td>\n",
       "      <td>12.0</td>\n",
       "      <td>20.0</td>\n",
       "      <td>...</td>\n",
       "      <td>0.0</td>\n",
       "      <td>0.73</td>\n",
       "      <td>0.78</td>\n",
       "      <td>1.0</td>\n",
       "      <td>No</td>\n",
       "      <td>No</td>\n",
       "      <td>No</td>\n",
       "      <td>Yes</td>\n",
       "      <td>No</td>\n",
       "      <td>No</td>\n",
       "    </tr>\n",
       "  </tbody>\n",
       "</table>\n",
       "<p>1687860 rows × 22 columns</p>\n",
       "</div>"
      ],
      "text/plain": [
       "         national_inv  lead_time  in_transit_qty  forecast_3_month  \\\n",
       "0                 0.0        NaN             0.0               0.0   \n",
       "1                 2.0        9.0             0.0               0.0   \n",
       "2                 2.0        NaN             0.0               0.0   \n",
       "3                 7.0        8.0             0.0               0.0   \n",
       "4                 8.0        NaN             0.0               0.0   \n",
       "...               ...        ...             ...               ...   \n",
       "1687855           0.0        2.0             0.0              10.0   \n",
       "1687856          -1.0        NaN             0.0               5.0   \n",
       "1687857          -1.0        9.0             0.0               7.0   \n",
       "1687858          62.0        9.0            16.0              39.0   \n",
       "1687859          19.0        4.0             0.0               0.0   \n",
       "\n",
       "         forecast_6_month  forecast_9_month  sales_1_month  sales_3_month  \\\n",
       "0                     0.0               0.0            0.0            0.0   \n",
       "1                     0.0               0.0            0.0            0.0   \n",
       "2                     0.0               0.0            0.0            0.0   \n",
       "3                     0.0               0.0            0.0            0.0   \n",
       "4                     0.0               0.0            0.0            0.0   \n",
       "...                   ...               ...            ...            ...   \n",
       "1687855              10.0              10.0            0.0            5.0   \n",
       "1687856               7.0               9.0            1.0            3.0   \n",
       "1687857               9.0              11.0            0.0            8.0   \n",
       "1687858              87.0             126.0           35.0           63.0   \n",
       "1687859               0.0               0.0            2.0            7.0   \n",
       "\n",
       "         sales_6_month  sales_9_month  ...  pieces_past_due perf_6_month_avg  \\\n",
       "0                  0.0            0.0  ...              0.0           -99.00   \n",
       "1                  0.0            0.0  ...              0.0             0.99   \n",
       "2                  0.0            0.0  ...              0.0           -99.00   \n",
       "3                  0.0            0.0  ...              0.0             0.10   \n",
       "4                  0.0            4.0  ...              0.0           -99.00   \n",
       "...                ...            ...  ...              ...              ...   \n",
       "1687855            7.0            7.0  ...              0.0             0.69   \n",
       "1687856            3.0            8.0  ...              0.0           -99.00   \n",
       "1687857           11.0           12.0  ...              0.0             0.86   \n",
       "1687858          153.0          205.0  ...              0.0             0.86   \n",
       "1687859           12.0           20.0  ...              0.0             0.73   \n",
       "\n",
       "         perf_12_month_avg  local_bo_qty  deck_risk  oe_constraint ppap_risk  \\\n",
       "0                   -99.00           0.0         No             No        No   \n",
       "1                     0.99           0.0         No             No        No   \n",
       "2                   -99.00           0.0        Yes             No        No   \n",
       "3                     0.13           0.0         No             No        No   \n",
       "4                   -99.00           0.0        Yes             No        No   \n",
       "...                    ...           ...        ...            ...       ...   \n",
       "1687855               0.69           5.0        Yes             No        No   \n",
       "1687856             -99.00           1.0         No             No        No   \n",
       "1687857               0.84           1.0        Yes             No        No   \n",
       "1687858               0.84           6.0         No             No        No   \n",
       "1687859               0.78           1.0         No             No        No   \n",
       "\n",
       "        stop_auto_buy rev_stop went_on_backorder  \n",
       "0                 Yes       No                No  \n",
       "1                 Yes       No                No  \n",
       "2                 Yes       No                No  \n",
       "3                 Yes       No                No  \n",
       "4                 Yes       No                No  \n",
       "...               ...      ...               ...  \n",
       "1687855           Yes       No                No  \n",
       "1687856           Yes       No                No  \n",
       "1687857            No       No               Yes  \n",
       "1687858           Yes       No                No  \n",
       "1687859           Yes       No                No  \n",
       "\n",
       "[1687860 rows x 22 columns]"
      ]
     },
     "execution_count": 525,
     "metadata": {},
     "output_type": "execute_result"
    }
   ],
   "source": [
    "df"
   ]
  },
  {
   "cell_type": "code",
   "execution_count": 526,
   "id": "9e7a5e4b",
   "metadata": {},
   "outputs": [
    {
     "data": {
      "text/plain": [
       "1687860"
      ]
     },
     "execution_count": 526,
     "metadata": {},
     "output_type": "execute_result"
    }
   ],
   "source": [
    "len(df)"
   ]
  },
  {
   "cell_type": "code",
   "execution_count": 527,
   "id": "cfe33909",
   "metadata": {},
   "outputs": [
    {
     "data": {
      "text/plain": [
       "{'deck_risk',\n",
       " 'forecast_3_month',\n",
       " 'forecast_6_month',\n",
       " 'forecast_9_month',\n",
       " 'in_transit_qty',\n",
       " 'lead_time',\n",
       " 'local_bo_qty',\n",
       " 'min_bank',\n",
       " 'national_inv',\n",
       " 'oe_constraint',\n",
       " 'perf_12_month_avg',\n",
       " 'perf_6_month_avg',\n",
       " 'pieces_past_due',\n",
       " 'potential_issue',\n",
       " 'ppap_risk',\n",
       " 'rev_stop',\n",
       " 'sales_1_month',\n",
       " 'sales_3_month',\n",
       " 'sales_6_month',\n",
       " 'sales_9_month',\n",
       " 'stop_auto_buy',\n",
       " 'went_on_backorder'}"
      ]
     },
     "execution_count": 527,
     "metadata": {},
     "output_type": "execute_result"
    }
   ],
   "source": [
    "set((df.columns))"
   ]
  },
  {
   "cell_type": "code",
   "execution_count": 528,
   "id": "25de7b9b",
   "metadata": {},
   "outputs": [
    {
     "data": {
      "text/plain": [
       "national_inv              0\n",
       "lead_time            100893\n",
       "in_transit_qty            0\n",
       "forecast_3_month          0\n",
       "forecast_6_month          0\n",
       "forecast_9_month          0\n",
       "sales_1_month             0\n",
       "sales_3_month             0\n",
       "sales_6_month             0\n",
       "sales_9_month             0\n",
       "min_bank                  0\n",
       "potential_issue           0\n",
       "pieces_past_due           0\n",
       "perf_6_month_avg          0\n",
       "perf_12_month_avg         0\n",
       "local_bo_qty              0\n",
       "deck_risk                 0\n",
       "oe_constraint             0\n",
       "ppap_risk                 0\n",
       "stop_auto_buy             0\n",
       "rev_stop                  0\n",
       "went_on_backorder         0\n",
       "dtype: int64"
      ]
     },
     "execution_count": 528,
     "metadata": {},
     "output_type": "execute_result"
    }
   ],
   "source": [
    "df.isna().sum()"
   ]
  },
  {
   "cell_type": "code",
   "execution_count": 529,
   "id": "198278db",
   "metadata": {},
   "outputs": [],
   "source": [
    "replace_values={'went_on_backorder':{'No':0, 'Yes':1}} #Encoding target column\n",
    "df.replace(replace_values, inplace=True)"
   ]
  },
  {
   "cell_type": "code",
   "execution_count": 530,
   "id": "7c0e3b2a",
   "metadata": {},
   "outputs": [],
   "source": [
    "X=df.drop(['went_on_backorder'], axis=1)\n",
    "y=df['went_on_backorder']"
   ]
  },
  {
   "cell_type": "markdown",
   "id": "c62e07fa",
   "metadata": {},
   "source": [
    "## Fixing imbalance"
   ]
  },
  {
   "cell_type": "code",
   "execution_count": 531,
   "id": "dfb060dc",
   "metadata": {},
   "outputs": [
    {
     "data": {
      "text/plain": [
       "0    1676567\n",
       "1      11293\n",
       "Name: went_on_backorder, dtype: int64"
      ]
     },
     "execution_count": 531,
     "metadata": {},
     "output_type": "execute_result"
    }
   ],
   "source": [
    "y.value_counts() # Data set is severly imbalanced"
   ]
  },
  {
   "cell_type": "code",
   "execution_count": 532,
   "id": "8931d96a",
   "metadata": {},
   "outputs": [
    {
     "data": {
      "text/plain": [
       "<AxesSubplot: ylabel='went_on_backorder'>"
      ]
     },
     "execution_count": 532,
     "metadata": {},
     "output_type": "execute_result"
    },
    {
     "data": {
      "image/png": "[encoded data removed]",
      "text/plain": [
       "<Figure size 640x480 with 1 Axes>"
      ]
     },
     "metadata": {},
     "output_type": "display_data"
    }
   ],
   "source": [
    "y.value_counts().plot.pie(autopct='%.2f') # Visualizing that dataset is severely imbalanced"
   ]
  },
  {
   "cell_type": "code",
   "execution_count": 533,
   "id": "3a27f981",
   "metadata": {},
   "outputs": [
    {
     "data": {
      "image/png": "[encoded data removed]",
      "text/plain": [
       "<Figure size 640x480 with 1 Axes>"
      ]
     },
     "metadata": {},
     "output_type": "display_data"
    }
   ],
   "source": [
    "# Undersampling to fix imbalanced data\n",
    "\n",
    "rus = RandomUnderSampler(sampling_strategy=0.25) # Numerical value\n",
    "X_res, y_res = rus.fit_resample(X, y)\n",
    "\n",
    "ax = y_res.value_counts().plot.pie(autopct='%.2f')\n",
    "_ = ax.set_title(\"Under-sampling\")"
   ]
  },
  {
   "cell_type": "code",
   "execution_count": 534,
   "id": "5587aeb4",
   "metadata": {},
   "outputs": [
    {
     "data": {
      "text/html": [
       "<div>\n",
       "<style scoped>\n",
       "    .dataframe tbody tr th:only-of-type {\n",
       "        vertical-align: middle;\n",
       "    }\n",
       "\n",
       "    .dataframe tbody tr th {\n",
       "        vertical-align: top;\n",
       "    }\n",
       "\n",
       "    .dataframe thead th {\n",
       "        text-align: right;\n",
       "    }\n",
       "</style>\n",
       "<table border=\"1\" class=\"dataframe\">\n",
       "  <thead>\n",
       "    <tr style=\"text-align: right;\">\n",
       "      <th></th>\n",
       "      <th>national_inv</th>\n",
       "      <th>lead_time</th>\n",
       "      <th>in_transit_qty</th>\n",
       "      <th>forecast_3_month</th>\n",
       "      <th>forecast_6_month</th>\n",
       "      <th>forecast_9_month</th>\n",
       "      <th>sales_1_month</th>\n",
       "      <th>sales_3_month</th>\n",
       "      <th>sales_6_month</th>\n",
       "      <th>sales_9_month</th>\n",
       "      <th>min_bank</th>\n",
       "      <th>pieces_past_due</th>\n",
       "      <th>perf_6_month_avg</th>\n",
       "      <th>perf_12_month_avg</th>\n",
       "      <th>local_bo_qty</th>\n",
       "    </tr>\n",
       "  </thead>\n",
       "  <tbody>\n",
       "    <tr>\n",
       "      <th>national_inv</th>\n",
       "      <td>1.000000</td>\n",
       "      <td>0.002177</td>\n",
       "      <td>0.149740</td>\n",
       "      <td>0.100371</td>\n",
       "      <td>0.102277</td>\n",
       "      <td>0.102842</td>\n",
       "      <td>0.207086</td>\n",
       "      <td>0.257185</td>\n",
       "      <td>0.296834</td>\n",
       "      <td>0.315180</td>\n",
       "      <td>0.415592</td>\n",
       "      <td>0.095420</td>\n",
       "      <td>-0.008543</td>\n",
       "      <td>-0.002400</td>\n",
       "      <td>0.003669</td>\n",
       "    </tr>\n",
       "    <tr>\n",
       "      <th>lead_time</th>\n",
       "      <td>0.002177</td>\n",
       "      <td>1.000000</td>\n",
       "      <td>-0.006646</td>\n",
       "      <td>-0.006992</td>\n",
       "      <td>-0.007222</td>\n",
       "      <td>-0.007318</td>\n",
       "      <td>-0.005795</td>\n",
       "      <td>-0.005367</td>\n",
       "      <td>-0.004829</td>\n",
       "      <td>-0.004524</td>\n",
       "      <td>-0.005787</td>\n",
       "      <td>0.000023</td>\n",
       "      <td>-0.094263</td>\n",
       "      <td>-0.103142</td>\n",
       "      <td>0.002534</td>\n",
       "    </tr>\n",
       "    <tr>\n",
       "      <th>in_transit_qty</th>\n",
       "      <td>0.149740</td>\n",
       "      <td>-0.006646</td>\n",
       "      <td>1.000000</td>\n",
       "      <td>0.874926</td>\n",
       "      <td>0.897028</td>\n",
       "      <td>0.903645</td>\n",
       "      <td>0.919110</td>\n",
       "      <td>0.918311</td>\n",
       "      <td>0.914190</td>\n",
       "      <td>0.903908</td>\n",
       "      <td>0.839009</td>\n",
       "      <td>0.670894</td>\n",
       "      <td>0.007320</td>\n",
       "      <td>0.007581</td>\n",
       "      <td>0.023011</td>\n",
       "    </tr>\n",
       "    <tr>\n",
       "      <th>forecast_3_month</th>\n",
       "      <td>0.100371</td>\n",
       "      <td>-0.006992</td>\n",
       "      <td>0.874926</td>\n",
       "      <td>1.000000</td>\n",
       "      <td>0.994468</td>\n",
       "      <td>0.989174</td>\n",
       "      <td>0.930361</td>\n",
       "      <td>0.927068</td>\n",
       "      <td>0.913342</td>\n",
       "      <td>0.906529</td>\n",
       "      <td>0.889537</td>\n",
       "      <td>0.681280</td>\n",
       "      <td>0.008339</td>\n",
       "      <td>0.008326</td>\n",
       "      <td>0.036788</td>\n",
       "    </tr>\n",
       "    <tr>\n",
       "      <th>forecast_6_month</th>\n",
       "      <td>0.102277</td>\n",
       "      <td>-0.007222</td>\n",
       "      <td>0.897028</td>\n",
       "      <td>0.994468</td>\n",
       "      <td>1.000000</td>\n",
       "      <td>0.998779</td>\n",
       "      <td>0.948493</td>\n",
       "      <td>0.945147</td>\n",
       "      <td>0.932528</td>\n",
       "      <td>0.926617</td>\n",
       "      <td>0.898052</td>\n",
       "      <td>0.700415</td>\n",
       "      <td>0.008055</td>\n",
       "      <td>0.008013</td>\n",
       "      <td>0.034330</td>\n",
       "    </tr>\n",
       "    <tr>\n",
       "      <th>forecast_9_month</th>\n",
       "      <td>0.102842</td>\n",
       "      <td>-0.007318</td>\n",
       "      <td>0.903645</td>\n",
       "      <td>0.989174</td>\n",
       "      <td>0.998779</td>\n",
       "      <td>1.000000</td>\n",
       "      <td>0.955671</td>\n",
       "      <td>0.952315</td>\n",
       "      <td>0.939804</td>\n",
       "      <td>0.934165</td>\n",
       "      <td>0.898479</td>\n",
       "      <td>0.705666</td>\n",
       "      <td>0.007975</td>\n",
       "      <td>0.007913</td>\n",
       "      <td>0.033067</td>\n",
       "    </tr>\n",
       "    <tr>\n",
       "      <th>sales_1_month</th>\n",
       "      <td>0.207086</td>\n",
       "      <td>-0.005795</td>\n",
       "      <td>0.919110</td>\n",
       "      <td>0.930361</td>\n",
       "      <td>0.948493</td>\n",
       "      <td>0.955671</td>\n",
       "      <td>1.000000</td>\n",
       "      <td>0.994529</td>\n",
       "      <td>0.989257</td>\n",
       "      <td>0.983241</td>\n",
       "      <td>0.916196</td>\n",
       "      <td>0.684655</td>\n",
       "      <td>0.004232</td>\n",
       "      <td>0.005095</td>\n",
       "      <td>0.045284</td>\n",
       "    </tr>\n",
       "    <tr>\n",
       "      <th>sales_3_month</th>\n",
       "      <td>0.257185</td>\n",
       "      <td>-0.005367</td>\n",
       "      <td>0.918311</td>\n",
       "      <td>0.927068</td>\n",
       "      <td>0.945147</td>\n",
       "      <td>0.952315</td>\n",
       "      <td>0.994529</td>\n",
       "      <td>1.000000</td>\n",
       "      <td>0.997027</td>\n",
       "      <td>0.992430</td>\n",
       "      <td>0.934778</td>\n",
       "      <td>0.695564</td>\n",
       "      <td>0.004393</td>\n",
       "      <td>0.005251</td>\n",
       "      <td>0.043137</td>\n",
       "    </tr>\n",
       "    <tr>\n",
       "      <th>sales_6_month</th>\n",
       "      <td>0.296834</td>\n",
       "      <td>-0.004829</td>\n",
       "      <td>0.914190</td>\n",
       "      <td>0.913342</td>\n",
       "      <td>0.932528</td>\n",
       "      <td>0.939804</td>\n",
       "      <td>0.989257</td>\n",
       "      <td>0.997027</td>\n",
       "      <td>1.000000</td>\n",
       "      <td>0.997805</td>\n",
       "      <td>0.938887</td>\n",
       "      <td>0.681965</td>\n",
       "      <td>0.004580</td>\n",
       "      <td>0.005316</td>\n",
       "      <td>0.042898</td>\n",
       "    </tr>\n",
       "    <tr>\n",
       "      <th>sales_9_month</th>\n",
       "      <td>0.315180</td>\n",
       "      <td>-0.004524</td>\n",
       "      <td>0.903908</td>\n",
       "      <td>0.906529</td>\n",
       "      <td>0.926617</td>\n",
       "      <td>0.934165</td>\n",
       "      <td>0.983241</td>\n",
       "      <td>0.992430</td>\n",
       "      <td>0.997805</td>\n",
       "      <td>1.000000</td>\n",
       "      <td>0.943400</td>\n",
       "      <td>0.674571</td>\n",
       "      <td>0.004498</td>\n",
       "      <td>0.005201</td>\n",
       "      <td>0.036352</td>\n",
       "    </tr>\n",
       "    <tr>\n",
       "      <th>min_bank</th>\n",
       "      <td>0.415592</td>\n",
       "      <td>-0.005787</td>\n",
       "      <td>0.839009</td>\n",
       "      <td>0.889537</td>\n",
       "      <td>0.898052</td>\n",
       "      <td>0.898479</td>\n",
       "      <td>0.916196</td>\n",
       "      <td>0.934778</td>\n",
       "      <td>0.938887</td>\n",
       "      <td>0.943400</td>\n",
       "      <td>1.000000</td>\n",
       "      <td>0.712894</td>\n",
       "      <td>0.005079</td>\n",
       "      <td>0.006362</td>\n",
       "      <td>0.034735</td>\n",
       "    </tr>\n",
       "    <tr>\n",
       "      <th>pieces_past_due</th>\n",
       "      <td>0.095420</td>\n",
       "      <td>0.000023</td>\n",
       "      <td>0.670894</td>\n",
       "      <td>0.681280</td>\n",
       "      <td>0.700415</td>\n",
       "      <td>0.705666</td>\n",
       "      <td>0.684655</td>\n",
       "      <td>0.695564</td>\n",
       "      <td>0.681965</td>\n",
       "      <td>0.674571</td>\n",
       "      <td>0.712894</td>\n",
       "      <td>1.000000</td>\n",
       "      <td>0.001965</td>\n",
       "      <td>0.001925</td>\n",
       "      <td>0.004926</td>\n",
       "    </tr>\n",
       "    <tr>\n",
       "      <th>perf_6_month_avg</th>\n",
       "      <td>-0.008543</td>\n",
       "      <td>-0.094263</td>\n",
       "      <td>0.007320</td>\n",
       "      <td>0.008339</td>\n",
       "      <td>0.008055</td>\n",
       "      <td>0.007975</td>\n",
       "      <td>0.004232</td>\n",
       "      <td>0.004393</td>\n",
       "      <td>0.004580</td>\n",
       "      <td>0.004498</td>\n",
       "      <td>0.005079</td>\n",
       "      <td>0.001965</td>\n",
       "      <td>1.000000</td>\n",
       "      <td>0.968057</td>\n",
       "      <td>0.005815</td>\n",
       "    </tr>\n",
       "    <tr>\n",
       "      <th>perf_12_month_avg</th>\n",
       "      <td>-0.002400</td>\n",
       "      <td>-0.103142</td>\n",
       "      <td>0.007581</td>\n",
       "      <td>0.008326</td>\n",
       "      <td>0.008013</td>\n",
       "      <td>0.007913</td>\n",
       "      <td>0.005095</td>\n",
       "      <td>0.005251</td>\n",
       "      <td>0.005316</td>\n",
       "      <td>0.005201</td>\n",
       "      <td>0.006362</td>\n",
       "      <td>0.001925</td>\n",
       "      <td>0.968057</td>\n",
       "      <td>1.000000</td>\n",
       "      <td>0.005773</td>\n",
       "    </tr>\n",
       "    <tr>\n",
       "      <th>local_bo_qty</th>\n",
       "      <td>0.003669</td>\n",
       "      <td>0.002534</td>\n",
       "      <td>0.023011</td>\n",
       "      <td>0.036788</td>\n",
       "      <td>0.034330</td>\n",
       "      <td>0.033067</td>\n",
       "      <td>0.045284</td>\n",
       "      <td>0.043137</td>\n",
       "      <td>0.042898</td>\n",
       "      <td>0.036352</td>\n",
       "      <td>0.034735</td>\n",
       "      <td>0.004926</td>\n",
       "      <td>0.005815</td>\n",
       "      <td>0.005773</td>\n",
       "      <td>1.000000</td>\n",
       "    </tr>\n",
       "  </tbody>\n",
       "</table>\n",
       "</div>"
      ],
      "text/plain": [
       "                   national_inv  lead_time  in_transit_qty  forecast_3_month  \\\n",
       "national_inv           1.000000   0.002177        0.149740          0.100371   \n",
       "lead_time              0.002177   1.000000       -0.006646         -0.006992   \n",
       "in_transit_qty         0.149740  -0.006646        1.000000          0.874926   \n",
       "forecast_3_month       0.100371  -0.006992        0.874926          1.000000   \n",
       "forecast_6_month       0.102277  -0.007222        0.897028          0.994468   \n",
       "forecast_9_month       0.102842  -0.007318        0.903645          0.989174   \n",
       "sales_1_month          0.207086  -0.005795        0.919110          0.930361   \n",
       "sales_3_month          0.257185  -0.005367        0.918311          0.927068   \n",
       "sales_6_month          0.296834  -0.004829        0.914190          0.913342   \n",
       "sales_9_month          0.315180  -0.004524        0.903908          0.906529   \n",
       "min_bank               0.415592  -0.005787        0.839009          0.889537   \n",
       "pieces_past_due        0.095420   0.000023        0.670894          0.681280   \n",
       "perf_6_month_avg      -0.008543  -0.094263        0.007320          0.008339   \n",
       "perf_12_month_avg     -0.002400  -0.103142        0.007581          0.008326   \n",
       "local_bo_qty           0.003669   0.002534        0.023011          0.036788   \n",
       "\n",
       "                   forecast_6_month  forecast_9_month  sales_1_month  \\\n",
       "national_inv               0.102277          0.102842       0.207086   \n",
       "lead_time                 -0.007222         -0.007318      -0.005795   \n",
       "in_transit_qty             0.897028          0.903645       0.919110   \n",
       "forecast_3_month           0.994468          0.989174       0.930361   \n",
       "forecast_6_month           1.000000          0.998779       0.948493   \n",
       "forecast_9_month           0.998779          1.000000       0.955671   \n",
       "sales_1_month              0.948493          0.955671       1.000000   \n",
       "sales_3_month              0.945147          0.952315       0.994529   \n",
       "sales_6_month              0.932528          0.939804       0.989257   \n",
       "sales_9_month              0.926617          0.934165       0.983241   \n",
       "min_bank                   0.898052          0.898479       0.916196   \n",
       "pieces_past_due            0.700415          0.705666       0.684655   \n",
       "perf_6_month_avg           0.008055          0.007975       0.004232   \n",
       "perf_12_month_avg          0.008013          0.007913       0.005095   \n",
       "local_bo_qty               0.034330          0.033067       0.045284   \n",
       "\n",
       "                   sales_3_month  sales_6_month  sales_9_month  min_bank  \\\n",
       "national_inv            0.257185       0.296834       0.315180  0.415592   \n",
       "lead_time              -0.005367      -0.004829      -0.004524 -0.005787   \n",
       "in_transit_qty          0.918311       0.914190       0.903908  0.839009   \n",
       "forecast_3_month        0.927068       0.913342       0.906529  0.889537   \n",
       "forecast_6_month        0.945147       0.932528       0.926617  0.898052   \n",
       "forecast_9_month        0.952315       0.939804       0.934165  0.898479   \n",
       "sales_1_month           0.994529       0.989257       0.983241  0.916196   \n",
       "sales_3_month           1.000000       0.997027       0.992430  0.934778   \n",
       "sales_6_month           0.997027       1.000000       0.997805  0.938887   \n",
       "sales_9_month           0.992430       0.997805       1.000000  0.943400   \n",
       "min_bank                0.934778       0.938887       0.943400  1.000000   \n",
       "pieces_past_due         0.695564       0.681965       0.674571  0.712894   \n",
       "perf_6_month_avg        0.004393       0.004580       0.004498  0.005079   \n",
       "perf_12_month_avg       0.005251       0.005316       0.005201  0.006362   \n",
       "local_bo_qty            0.043137       0.042898       0.036352  0.034735   \n",
       "\n",
       "                   pieces_past_due  perf_6_month_avg  perf_12_month_avg  \\\n",
       "national_inv              0.095420         -0.008543          -0.002400   \n",
       "lead_time                 0.000023         -0.094263          -0.103142   \n",
       "in_transit_qty            0.670894          0.007320           0.007581   \n",
       "forecast_3_month          0.681280          0.008339           0.008326   \n",
       "forecast_6_month          0.700415          0.008055           0.008013   \n",
       "forecast_9_month          0.705666          0.007975           0.007913   \n",
       "sales_1_month             0.684655          0.004232           0.005095   \n",
       "sales_3_month             0.695564          0.004393           0.005251   \n",
       "sales_6_month             0.681965          0.004580           0.005316   \n",
       "sales_9_month             0.674571          0.004498           0.005201   \n",
       "min_bank                  0.712894          0.005079           0.006362   \n",
       "pieces_past_due           1.000000          0.001965           0.001925   \n",
       "perf_6_month_avg          0.001965          1.000000           0.968057   \n",
       "perf_12_month_avg         0.001925          0.968057           1.000000   \n",
       "local_bo_qty              0.004926          0.005815           0.005773   \n",
       "\n",
       "                   local_bo_qty  \n",
       "national_inv           0.003669  \n",
       "lead_time              0.002534  \n",
       "in_transit_qty         0.023011  \n",
       "forecast_3_month       0.036788  \n",
       "forecast_6_month       0.034330  \n",
       "forecast_9_month       0.033067  \n",
       "sales_1_month          0.045284  \n",
       "sales_3_month          0.043137  \n",
       "sales_6_month          0.042898  \n",
       "sales_9_month          0.036352  \n",
       "min_bank               0.034735  \n",
       "pieces_past_due        0.004926  \n",
       "perf_6_month_avg       0.005815  \n",
       "perf_12_month_avg      0.005773  \n",
       "local_bo_qty           1.000000  "
      ]
     },
     "execution_count": 534,
     "metadata": {},
     "output_type": "execute_result"
    },
    {
     "data": {
      "image/png": "[encoded data removed]",
      "text/plain": [
       "<Figure size 640x480 with 2 Axes>"
      ]
     },
     "metadata": {},
     "output_type": "display_data"
    }
   ],
   "source": [
    "cor = X_res.select_dtypes(include='number').corr() # Correlation matrix for the the numeric data types in the set\n",
    "cor\n",
    "sns.heatmap(data=cor, cmap='rocket')\n",
    "cor"
   ]
  },
  {
   "cell_type": "code",
   "execution_count": 535,
   "id": "20b4eff5",
   "metadata": {},
   "outputs": [],
   "source": [
    "# with the following function we can select highly correlated features\n",
    "# it will remove the first feature that is correlated with anything other feature\n",
    "\n",
    "def correlation(dataset, threshold):\n",
    "    col_corr = set()  # Set of all the names of correlated columns\n",
    "    corr_matrix = dataset.corr()\n",
    "    for i in range(len(corr_matrix.columns)):\n",
    "        for j in range(i):\n",
    "            if abs(corr_matrix.iloc[i, j]) > threshold: # we are interested in absolute coeff value\n",
    "                colname = corr_matrix.columns[i]  # getting the name of column\n",
    "                col_corr.add(colname)\n",
    "    return list(col_corr)"
   ]
  },
  {
   "cell_type": "code",
   "execution_count": 536,
   "id": "ad270e1a",
   "metadata": {},
   "outputs": [
    {
     "name": "stderr",
     "output_type": "stream",
     "text": [
      "C:\\Users\\Asus\\AppData\\Local\\Temp\\ipykernel_21416\\3503626241.py:6: FutureWarning: The default value of numeric_only in DataFrame.corr is deprecated. In a future version, it will default to False. Select only valid columns or specify the value of numeric_only to silence this warning.\n",
      "  corr_matrix = dataset.corr()\n"
     ]
    },
    {
     "data": {
      "text/plain": [
       "['forecast_9_month',\n",
       " 'forecast_6_month',\n",
       " 'sales_6_month',\n",
       " 'sales_9_month',\n",
       " 'sales_3_month',\n",
       " 'min_bank',\n",
       " 'perf_12_month_avg',\n",
       " 'sales_1_month']"
      ]
     },
     "execution_count": 536,
     "metadata": {},
     "output_type": "execute_result"
    }
   ],
   "source": [
    "highly_correlated=correlation(X_res, 0.90) # List of highly correlated features.\n",
    "highly_correlated # These features have a correlation of greater than or equal to 90% with some other feature in the dataset."
   ]
  },
  {
   "cell_type": "code",
   "execution_count": 537,
   "id": "f4ecb8c0",
   "metadata": {},
   "outputs": [],
   "source": [
    "X_res.drop(highly_correlated, axis=1, inplace=True) # dropping highly correlated features"
   ]
  },
  {
   "cell_type": "code",
   "execution_count": 538,
   "id": "a1e40a80",
   "metadata": {},
   "outputs": [
    {
     "data": {
      "text/plain": [
       "national_inv           0\n",
       "lead_time           3053\n",
       "in_transit_qty         0\n",
       "forecast_3_month       0\n",
       "potential_issue        0\n",
       "pieces_past_due        0\n",
       "perf_6_month_avg       0\n",
       "local_bo_qty           0\n",
       "deck_risk              0\n",
       "oe_constraint          0\n",
       "ppap_risk              0\n",
       "stop_auto_buy          0\n",
       "rev_stop               0\n",
       "dtype: int64"
      ]
     },
     "execution_count": 538,
     "metadata": {},
     "output_type": "execute_result"
    }
   ],
   "source": [
    "X_res.isna().sum()"
   ]
  },
  {
   "cell_type": "code",
   "execution_count": 571,
   "id": "af8de311",
   "metadata": {},
   "outputs": [],
   "source": [
    "y=y_res\n",
    "X=X_res\n",
    "\n",
    "X_train, X_test, y_train, y_test = train_test_split(X, y, test_size=0.33, random_state=42)"
   ]
  },
  {
   "cell_type": "code",
   "execution_count": 540,
   "id": "ae67426a",
   "metadata": {},
   "outputs": [],
   "source": [
    "# Creating the pipeline for stepwise exectution of the column transformer, imputer, and the classifier\n",
    "\n",
    "ct=make_column_transformer((StandardScaler(), X.select_dtypes(include='number').columns), (OneHotEncoder(handle_unknown='ignore'),X.select_dtypes(include='object').columns),\n",
    "                           remainder='passthrough')\n",
    "imputer=KNNImputer(n_neighbors=5)\n",
    "clf=LogisticRegression()"
   ]
  },
  {
   "cell_type": "code",
   "execution_count": 541,
   "id": "cf6b05e6",
   "metadata": {},
   "outputs": [],
   "source": [
    "pl=make_pipeline(ct, imputer, clf)"
   ]
  },
  {
   "cell_type": "markdown",
   "id": "00b7dc16",
   "metadata": {},
   "source": [
    "## Training initial models"
   ]
  },
  {
   "cell_type": "code",
   "execution_count": 551,
   "id": "0a039eb4",
   "metadata": {},
   "outputs": [
    {
     "data": {
      "text/plain": [
       "array([0.88612415, 0.91419463, 0.91685115, 0.9067564 , 0.90976711])"
      ]
     },
     "execution_count": 551,
     "metadata": {},
     "output_type": "execute_result"
    }
   ],
   "source": [
    "cross_val_score(pl_randomForrest, X, y).mean() # Random Forrest cross validation score"
   ]
  },
  {
   "cell_type": "code",
   "execution_count": 552,
   "id": "f2bb60e6",
   "metadata": {
    "scrolled": true
   },
   "outputs": [
    {
     "name": "stderr",
     "output_type": "stream",
     "text": [
      "C:\\Users\\Asus\\anaconda3\\envs\\ml\\lib\\site-packages\\sklearn\\linear_model\\_logistic.py:444: ConvergenceWarning: lbfgs failed to converge (status=1):\n",
      "STOP: TOTAL NO. of ITERATIONS REACHED LIMIT.\n",
      "\n",
      "Increase the number of iterations (max_iter) or scale the data as shown in:\n",
      "    https://scikit-learn.org/stable/modules/preprocessing.html\n",
      "Please also refer to the documentation for alternative solver options:\n",
      "    https://scikit-learn.org/stable/modules/linear_model.html#logistic-regression\n",
      "  n_iter_i = _check_optimize_result(\n",
      "C:\\Users\\Asus\\anaconda3\\envs\\ml\\lib\\site-packages\\sklearn\\linear_model\\_logistic.py:444: ConvergenceWarning: lbfgs failed to converge (status=1):\n",
      "STOP: TOTAL NO. of ITERATIONS REACHED LIMIT.\n",
      "\n",
      "Increase the number of iterations (max_iter) or scale the data as shown in:\n",
      "    https://scikit-learn.org/stable/modules/preprocessing.html\n",
      "Please also refer to the documentation for alternative solver options:\n",
      "    https://scikit-learn.org/stable/modules/linear_model.html#logistic-regression\n",
      "  n_iter_i = _check_optimize_result(\n",
      "C:\\Users\\Asus\\anaconda3\\envs\\ml\\lib\\site-packages\\sklearn\\linear_model\\_logistic.py:444: ConvergenceWarning: lbfgs failed to converge (status=1):\n",
      "STOP: TOTAL NO. of ITERATIONS REACHED LIMIT.\n",
      "\n",
      "Increase the number of iterations (max_iter) or scale the data as shown in:\n",
      "    https://scikit-learn.org/stable/modules/preprocessing.html\n",
      "Please also refer to the documentation for alternative solver options:\n",
      "    https://scikit-learn.org/stable/modules/linear_model.html#logistic-regression\n",
      "  n_iter_i = _check_optimize_result(\n",
      "C:\\Users\\Asus\\anaconda3\\envs\\ml\\lib\\site-packages\\sklearn\\linear_model\\_logistic.py:444: ConvergenceWarning: lbfgs failed to converge (status=1):\n",
      "STOP: TOTAL NO. of ITERATIONS REACHED LIMIT.\n",
      "\n",
      "Increase the number of iterations (max_iter) or scale the data as shown in:\n",
      "    https://scikit-learn.org/stable/modules/preprocessing.html\n",
      "Please also refer to the documentation for alternative solver options:\n",
      "    https://scikit-learn.org/stable/modules/linear_model.html#logistic-regression\n",
      "  n_iter_i = _check_optimize_result(\n",
      "C:\\Users\\Asus\\anaconda3\\envs\\ml\\lib\\site-packages\\sklearn\\linear_model\\_logistic.py:444: ConvergenceWarning: lbfgs failed to converge (status=1):\n",
      "STOP: TOTAL NO. of ITERATIONS REACHED LIMIT.\n",
      "\n",
      "Increase the number of iterations (max_iter) or scale the data as shown in:\n",
      "    https://scikit-learn.org/stable/modules/preprocessing.html\n",
      "Please also refer to the documentation for alternative solver options:\n",
      "    https://scikit-learn.org/stable/modules/linear_model.html#logistic-regression\n",
      "  n_iter_i = _check_optimize_result(\n"
     ]
    },
    {
     "data": {
      "text/plain": [
       "array([0.80067298, 0.80085008, 0.8035066 , 0.80191269, 0.80217834])"
      ]
     },
     "execution_count": 552,
     "metadata": {},
     "output_type": "execute_result"
    }
   ],
   "source": [
    "cross_val_score(pl_logistic, X, y).mean() # Logistic Regression cross validation score"
   ]
  },
  {
   "cell_type": "code",
   "execution_count": 553,
   "id": "4ecdc689",
   "metadata": {},
   "outputs": [
    {
     "data": {
      "text/plain": [
       "0.8055078367130081"
      ]
     },
     "execution_count": 553,
     "metadata": {},
     "output_type": "execute_result"
    }
   ],
   "source": [
    "cross_val_score(pl_svc, X, y).mean() # SVC cross validation score"
   ]
  },
  {
   "cell_type": "code",
   "execution_count": 556,
   "id": "60569020",
   "metadata": {},
   "outputs": [],
   "source": [
    "preprocessing=make_pipeline(ct, imputer)"
   ]
  },
  {
   "cell_type": "code",
   "execution_count": 572,
   "id": "77e7d4fb",
   "metadata": {},
   "outputs": [],
   "source": [
    "X_train=preprocessing.fit_transform(X_train)"
   ]
  },
  {
   "cell_type": "code",
   "execution_count": 573,
   "id": "f725b8c3",
   "metadata": {},
   "outputs": [],
   "source": [
    "X_test=preprocessing.fit_transform(X_test)"
   ]
  },
  {
   "cell_type": "code",
   "execution_count": 560,
   "id": "0909c677",
   "metadata": {},
   "outputs": [
    {
     "name": "stderr",
     "output_type": "stream",
     "text": [
      "C:\\Users\\Asus\\anaconda3\\envs\\ml\\lib\\site-packages\\sklearn\\linear_model\\_logistic.py:444: ConvergenceWarning: lbfgs failed to converge (status=1):\n",
      "STOP: TOTAL NO. of ITERATIONS REACHED LIMIT.\n",
      "\n",
      "Increase the number of iterations (max_iter) or scale the data as shown in:\n",
      "    https://scikit-learn.org/stable/modules/preprocessing.html\n",
      "Please also refer to the documentation for alternative solver options:\n",
      "    https://scikit-learn.org/stable/modules/linear_model.html#logistic-regression\n",
      "  n_iter_i = _check_optimize_result(\n"
     ]
    },
    {
     "data": {
      "text/html": [
       "<style>#sk-container-id-5 {color: black;background-color: white;}#sk-container-id-5 pre{padding: 0;}#sk-container-id-5 div.sk-toggleable {background-color: white;}#sk-container-id-5 label.sk-toggleable__label {cursor: pointer;display: block;width: 100%;margin-bottom: 0;padding: 0.3em;box-sizing: border-box;text-align: center;}#sk-container-id-5 label.sk-toggleable__label-arrow:before {content: \"▸\";float: left;margin-right: 0.25em;color: #696969;}#sk-container-id-5 label.sk-toggleable__label-arrow:hover:before {color: black;}#sk-container-id-5 div.sk-estimator:hover label.sk-toggleable__label-arrow:before {color: black;}#sk-container-id-5 div.sk-toggleable__content {max-height: 0;max-width: 0;overflow: hidden;text-align: left;background-color: #f0f8ff;}#sk-container-id-5 div.sk-toggleable__content pre {margin: 0.2em;color: black;border-radius: 0.25em;background-color: #f0f8ff;}#sk-container-id-5 input.sk-toggleable__control:checked~div.sk-toggleable__content {max-height: 200px;max-width: 100%;overflow: auto;}#sk-container-id-5 input.sk-toggleable__control:checked~label.sk-toggleable__label-arrow:before {content: \"▾\";}#sk-container-id-5 div.sk-estimator input.sk-toggleable__control:checked~label.sk-toggleable__label {background-color: #d4ebff;}#sk-container-id-5 div.sk-label input.sk-toggleable__control:checked~label.sk-toggleable__label {background-color: #d4ebff;}#sk-container-id-5 input.sk-hidden--visually {border: 0;clip: rect(1px 1px 1px 1px);clip: rect(1px, 1px, 1px, 1px);height: 1px;margin: -1px;overflow: hidden;padding: 0;position: absolute;width: 1px;}#sk-container-id-5 div.sk-estimator {font-family: monospace;background-color: #f0f8ff;border: 1px dotted black;border-radius: 0.25em;box-sizing: border-box;margin-bottom: 0.5em;}#sk-container-id-5 div.sk-estimator:hover {background-color: #d4ebff;}#sk-container-id-5 div.sk-parallel-item::after {content: \"\";width: 100%;border-bottom: 1px solid gray;flex-grow: 1;}#sk-container-id-5 div.sk-label:hover label.sk-toggleable__label {background-color: #d4ebff;}#sk-container-id-5 div.sk-serial::before {content: \"\";position: absolute;border-left: 1px solid gray;box-sizing: border-box;top: 0;bottom: 0;left: 50%;z-index: 0;}#sk-container-id-5 div.sk-serial {display: flex;flex-direction: column;align-items: center;background-color: white;padding-right: 0.2em;padding-left: 0.2em;position: relative;}#sk-container-id-5 div.sk-item {position: relative;z-index: 1;}#sk-container-id-5 div.sk-parallel {display: flex;align-items: stretch;justify-content: center;background-color: white;position: relative;}#sk-container-id-5 div.sk-item::before, #sk-container-id-5 div.sk-parallel-item::before {content: \"\";position: absolute;border-left: 1px solid gray;box-sizing: border-box;top: 0;bottom: 0;left: 50%;z-index: -1;}#sk-container-id-5 div.sk-parallel-item {display: flex;flex-direction: column;z-index: 1;position: relative;background-color: white;}#sk-container-id-5 div.sk-parallel-item:first-child::after {align-self: flex-end;width: 50%;}#sk-container-id-5 div.sk-parallel-item:last-child::after {align-self: flex-start;width: 50%;}#sk-container-id-5 div.sk-parallel-item:only-child::after {width: 0;}#sk-container-id-5 div.sk-dashed-wrapped {border: 1px dashed gray;margin: 0 0.4em 0.5em 0.4em;box-sizing: border-box;padding-bottom: 0.4em;background-color: white;}#sk-container-id-5 div.sk-label label {font-family: monospace;font-weight: bold;display: inline-block;line-height: 1.2em;}#sk-container-id-5 div.sk-label-container {text-align: center;}#sk-container-id-5 div.sk-container {/* jupyter's `normalize.less` sets `[hidden] { display: none; }` but bootstrap.min.css set `[hidden] { display: none !important; }` so we also need the `!important` here to be able to override the default hidden behavior on the sphinx rendered scikit-learn.org. See: https://github.com/scikit-learn/scikit-learn/issues/21755 */display: inline-block !important;position: relative;}#sk-container-id-5 div.sk-text-repr-fallback {display: none;}</style><div id=\"sk-container-id-5\" class=\"sk-top-container\"><div class=\"sk-text-repr-fallback\"><pre>LogisticRegression()</pre><b>In a Jupyter environment, please rerun this cell to show the HTML representation or trust the notebook. <br />On GitHub, the HTML representation is unable to render, please try loading this page with nbviewer.org.</b></div><div class=\"sk-container\" hidden><div class=\"sk-item\"><div class=\"sk-estimator sk-toggleable\"><input class=\"sk-toggleable__control sk-hidden--visually\" id=\"sk-estimator-id-41\" type=\"checkbox\" checked><label for=\"sk-estimator-id-41\" class=\"sk-toggleable__label sk-toggleable__label-arrow\">LogisticRegression</label><div class=\"sk-toggleable__content\"><pre>LogisticRegression()</pre></div></div></div></div></div>"
      ],
      "text/plain": [
       "LogisticRegression()"
      ]
     },
     "execution_count": 560,
     "metadata": {},
     "output_type": "execute_result"
    }
   ],
   "source": [
    "clf.fit(X_train, y_train)"
   ]
  },
  {
   "cell_type": "code",
   "execution_count": 570,
   "id": "588fc0ea",
   "metadata": {},
   "outputs": [],
   "source": [
    "log_regP=clf.predict_proba(X_test)"
   ]
  },
  {
   "cell_type": "code",
   "execution_count": 575,
   "id": "816b7b1e",
   "metadata": {},
   "outputs": [
    {
     "data": {
      "text/html": [
       "<style>#sk-container-id-6 {color: black;background-color: white;}#sk-container-id-6 pre{padding: 0;}#sk-container-id-6 div.sk-toggleable {background-color: white;}#sk-container-id-6 label.sk-toggleable__label {cursor: pointer;display: block;width: 100%;margin-bottom: 0;padding: 0.3em;box-sizing: border-box;text-align: center;}#sk-container-id-6 label.sk-toggleable__label-arrow:before {content: \"▸\";float: left;margin-right: 0.25em;color: #696969;}#sk-container-id-6 label.sk-toggleable__label-arrow:hover:before {color: black;}#sk-container-id-6 div.sk-estimator:hover label.sk-toggleable__label-arrow:before {color: black;}#sk-container-id-6 div.sk-toggleable__content {max-height: 0;max-width: 0;overflow: hidden;text-align: left;background-color: #f0f8ff;}#sk-container-id-6 div.sk-toggleable__content pre {margin: 0.2em;color: black;border-radius: 0.25em;background-color: #f0f8ff;}#sk-container-id-6 input.sk-toggleable__control:checked~div.sk-toggleable__content {max-height: 200px;max-width: 100%;overflow: auto;}#sk-container-id-6 input.sk-toggleable__control:checked~label.sk-toggleable__label-arrow:before {content: \"▾\";}#sk-container-id-6 div.sk-estimator input.sk-toggleable__control:checked~label.sk-toggleable__label {background-color: #d4ebff;}#sk-container-id-6 div.sk-label input.sk-toggleable__control:checked~label.sk-toggleable__label {background-color: #d4ebff;}#sk-container-id-6 input.sk-hidden--visually {border: 0;clip: rect(1px 1px 1px 1px);clip: rect(1px, 1px, 1px, 1px);height: 1px;margin: -1px;overflow: hidden;padding: 0;position: absolute;width: 1px;}#sk-container-id-6 div.sk-estimator {font-family: monospace;background-color: #f0f8ff;border: 1px dotted black;border-radius: 0.25em;box-sizing: border-box;margin-bottom: 0.5em;}#sk-container-id-6 div.sk-estimator:hover {background-color: #d4ebff;}#sk-container-id-6 div.sk-parallel-item::after {content: \"\";width: 100%;border-bottom: 1px solid gray;flex-grow: 1;}#sk-container-id-6 div.sk-label:hover label.sk-toggleable__label {background-color: #d4ebff;}#sk-container-id-6 div.sk-serial::before {content: \"\";position: absolute;border-left: 1px solid gray;box-sizing: border-box;top: 0;bottom: 0;left: 50%;z-index: 0;}#sk-container-id-6 div.sk-serial {display: flex;flex-direction: column;align-items: center;background-color: white;padding-right: 0.2em;padding-left: 0.2em;position: relative;}#sk-container-id-6 div.sk-item {position: relative;z-index: 1;}#sk-container-id-6 div.sk-parallel {display: flex;align-items: stretch;justify-content: center;background-color: white;position: relative;}#sk-container-id-6 div.sk-item::before, #sk-container-id-6 div.sk-parallel-item::before {content: \"\";position: absolute;border-left: 1px solid gray;box-sizing: border-box;top: 0;bottom: 0;left: 50%;z-index: -1;}#sk-container-id-6 div.sk-parallel-item {display: flex;flex-direction: column;z-index: 1;position: relative;background-color: white;}#sk-container-id-6 div.sk-parallel-item:first-child::after {align-self: flex-end;width: 50%;}#sk-container-id-6 div.sk-parallel-item:last-child::after {align-self: flex-start;width: 50%;}#sk-container-id-6 div.sk-parallel-item:only-child::after {width: 0;}#sk-container-id-6 div.sk-dashed-wrapped {border: 1px dashed gray;margin: 0 0.4em 0.5em 0.4em;box-sizing: border-box;padding-bottom: 0.4em;background-color: white;}#sk-container-id-6 div.sk-label label {font-family: monospace;font-weight: bold;display: inline-block;line-height: 1.2em;}#sk-container-id-6 div.sk-label-container {text-align: center;}#sk-container-id-6 div.sk-container {/* jupyter's `normalize.less` sets `[hidden] { display: none; }` but bootstrap.min.css set `[hidden] { display: none !important; }` so we also need the `!important` here to be able to override the default hidden behavior on the sphinx rendered scikit-learn.org. See: https://github.com/scikit-learn/scikit-learn/issues/21755 */display: inline-block !important;position: relative;}#sk-container-id-6 div.sk-text-repr-fallback {display: none;}</style><div id=\"sk-container-id-6\" class=\"sk-top-container\"><div class=\"sk-text-repr-fallback\"><pre>RandomForestClassifier()</pre><b>In a Jupyter environment, please rerun this cell to show the HTML representation or trust the notebook. <br />On GitHub, the HTML representation is unable to render, please try loading this page with nbviewer.org.</b></div><div class=\"sk-container\" hidden><div class=\"sk-item\"><div class=\"sk-estimator sk-toggleable\"><input class=\"sk-toggleable__control sk-hidden--visually\" id=\"sk-estimator-id-42\" type=\"checkbox\" checked><label for=\"sk-estimator-id-42\" class=\"sk-toggleable__label sk-toggleable__label-arrow\">RandomForestClassifier</label><div class=\"sk-toggleable__content\"><pre>RandomForestClassifier()</pre></div></div></div></div></div>"
      ],
      "text/plain": [
       "RandomForestClassifier()"
      ]
     },
     "execution_count": 575,
     "metadata": {},
     "output_type": "execute_result"
    }
   ],
   "source": [
    "clf_randomForrest.fit(X_train, y_train)"
   ]
  },
  {
   "cell_type": "markdown",
   "id": "4f575e65",
   "metadata": {},
   "source": [
    "# ROC/AUC curve"
   ]
  },
  {
   "cell_type": "code",
   "execution_count": 576,
   "id": "f3aa0dc6",
   "metadata": {},
   "outputs": [],
   "source": [
    "random_forrestP=clf_randomForrest.predict_proba(X_test)"
   ]
  },
  {
   "cell_type": "code",
   "execution_count": 595,
   "id": "0def2379",
   "metadata": {},
   "outputs": [
    {
     "data": {
      "text/html": [
       "<style>#sk-container-id-7 {color: black;background-color: white;}#sk-container-id-7 pre{padding: 0;}#sk-container-id-7 div.sk-toggleable {background-color: white;}#sk-container-id-7 label.sk-toggleable__label {cursor: pointer;display: block;width: 100%;margin-bottom: 0;padding: 0.3em;box-sizing: border-box;text-align: center;}#sk-container-id-7 label.sk-toggleable__label-arrow:before {content: \"▸\";float: left;margin-right: 0.25em;color: #696969;}#sk-container-id-7 label.sk-toggleable__label-arrow:hover:before {color: black;}#sk-container-id-7 div.sk-estimator:hover label.sk-toggleable__label-arrow:before {color: black;}#sk-container-id-7 div.sk-toggleable__content {max-height: 0;max-width: 0;overflow: hidden;text-align: left;background-color: #f0f8ff;}#sk-container-id-7 div.sk-toggleable__content pre {margin: 0.2em;color: black;border-radius: 0.25em;background-color: #f0f8ff;}#sk-container-id-7 input.sk-toggleable__control:checked~div.sk-toggleable__content {max-height: 200px;max-width: 100%;overflow: auto;}#sk-container-id-7 input.sk-toggleable__control:checked~label.sk-toggleable__label-arrow:before {content: \"▾\";}#sk-container-id-7 div.sk-estimator input.sk-toggleable__control:checked~label.sk-toggleable__label {background-color: #d4ebff;}#sk-container-id-7 div.sk-label input.sk-toggleable__control:checked~label.sk-toggleable__label {background-color: #d4ebff;}#sk-container-id-7 input.sk-hidden--visually {border: 0;clip: rect(1px 1px 1px 1px);clip: rect(1px, 1px, 1px, 1px);height: 1px;margin: -1px;overflow: hidden;padding: 0;position: absolute;width: 1px;}#sk-container-id-7 div.sk-estimator {font-family: monospace;background-color: #f0f8ff;border: 1px dotted black;border-radius: 0.25em;box-sizing: border-box;margin-bottom: 0.5em;}#sk-container-id-7 div.sk-estimator:hover {background-color: #d4ebff;}#sk-container-id-7 div.sk-parallel-item::after {content: \"\";width: 100%;border-bottom: 1px solid gray;flex-grow: 1;}#sk-container-id-7 div.sk-label:hover label.sk-toggleable__label {background-color: #d4ebff;}#sk-container-id-7 div.sk-serial::before {content: \"\";position: absolute;border-left: 1px solid gray;box-sizing: border-box;top: 0;bottom: 0;left: 50%;z-index: 0;}#sk-container-id-7 div.sk-serial {display: flex;flex-direction: column;align-items: center;background-color: white;padding-right: 0.2em;padding-left: 0.2em;position: relative;}#sk-container-id-7 div.sk-item {position: relative;z-index: 1;}#sk-container-id-7 div.sk-parallel {display: flex;align-items: stretch;justify-content: center;background-color: white;position: relative;}#sk-container-id-7 div.sk-item::before, #sk-container-id-7 div.sk-parallel-item::before {content: \"\";position: absolute;border-left: 1px solid gray;box-sizing: border-box;top: 0;bottom: 0;left: 50%;z-index: -1;}#sk-container-id-7 div.sk-parallel-item {display: flex;flex-direction: column;z-index: 1;position: relative;background-color: white;}#sk-container-id-7 div.sk-parallel-item:first-child::after {align-self: flex-end;width: 50%;}#sk-container-id-7 div.sk-parallel-item:last-child::after {align-self: flex-start;width: 50%;}#sk-container-id-7 div.sk-parallel-item:only-child::after {width: 0;}#sk-container-id-7 div.sk-dashed-wrapped {border: 1px dashed gray;margin: 0 0.4em 0.5em 0.4em;box-sizing: border-box;padding-bottom: 0.4em;background-color: white;}#sk-container-id-7 div.sk-label label {font-family: monospace;font-weight: bold;display: inline-block;line-height: 1.2em;}#sk-container-id-7 div.sk-label-container {text-align: center;}#sk-container-id-7 div.sk-container {/* jupyter's `normalize.less` sets `[hidden] { display: none; }` but bootstrap.min.css set `[hidden] { display: none !important; }` so we also need the `!important` here to be able to override the default hidden behavior on the sphinx rendered scikit-learn.org. See: https://github.com/scikit-learn/scikit-learn/issues/21755 */display: inline-block !important;position: relative;}#sk-container-id-7 div.sk-text-repr-fallback {display: none;}</style><div id=\"sk-container-id-7\" class=\"sk-top-container\"><div class=\"sk-text-repr-fallback\"><pre>GaussianNB()</pre><b>In a Jupyter environment, please rerun this cell to show the HTML representation or trust the notebook. <br />On GitHub, the HTML representation is unable to render, please try loading this page with nbviewer.org.</b></div><div class=\"sk-container\" hidden><div class=\"sk-item\"><div class=\"sk-estimator sk-toggleable\"><input class=\"sk-toggleable__control sk-hidden--visually\" id=\"sk-estimator-id-43\" type=\"checkbox\" checked><label for=\"sk-estimator-id-43\" class=\"sk-toggleable__label sk-toggleable__label-arrow\">GaussianNB</label><div class=\"sk-toggleable__content\"><pre>GaussianNB()</pre></div></div></div></div></div>"
      ],
      "text/plain": [
       "GaussianNB()"
      ]
     },
     "execution_count": 595,
     "metadata": {},
     "output_type": "execute_result"
    }
   ],
   "source": [
    "clf_gnb.fit(X_train, y_train)"
   ]
  },
  {
   "cell_type": "code",
   "execution_count": 603,
   "id": "f963f60e",
   "metadata": {},
   "outputs": [],
   "source": [
    "naive_baiiyesP=clf_gnb.predict_proba(X_test)"
   ]
  },
  {
   "cell_type": "code",
   "execution_count": 604,
   "id": "f6369ef2",
   "metadata": {},
   "outputs": [],
   "source": [
    "rl_auc = roc_auc_score(y_test, log_regP[:,1])\n",
    "rf_auc = roc_auc_score(y_test, random_forrestP[:,1])\n",
    "rn_auc = roc_auc_score(y_test, naive_baiiyesP[:,1])"
   ]
  },
  {
   "cell_type": "code",
   "execution_count": 588,
   "id": "4f42e4b7",
   "metadata": {},
   "outputs": [
    {
     "data": {
      "text/plain": [
       "0.7006704651286924"
      ]
     },
     "execution_count": 588,
     "metadata": {},
     "output_type": "execute_result"
    }
   ],
   "source": [
    "rl_auc # AUC under ROC for logistic regression"
   ]
  },
  {
   "cell_type": "code",
   "execution_count": 589,
   "id": "606fb325",
   "metadata": {},
   "outputs": [
    {
     "data": {
      "text/plain": [
       "0.5421155896106088"
      ]
     },
     "execution_count": 589,
     "metadata": {},
     "output_type": "execute_result"
    }
   ],
   "source": [
    "rf_auc # AUC under ROC for Random Forest Classifier"
   ]
  },
  {
   "cell_type": "code",
   "execution_count": 605,
   "id": "b236fcdc",
   "metadata": {},
   "outputs": [
    {
     "data": {
      "text/plain": [
       "0.6442851721803347"
      ]
     },
     "execution_count": 605,
     "metadata": {},
     "output_type": "execute_result"
    }
   ],
   "source": [
    "rn_auc# AUC under ROC for Random Naive-Bayes Classifier"
   ]
  },
  {
   "cell_type": "code",
   "execution_count": 606,
   "id": "97ac94a7",
   "metadata": {},
   "outputs": [
    {
     "data": {
      "image/png": "[encoded data removed]",
      "text/plain": [
       "<Figure size 640x480 with 1 Axes>"
      ]
     },
     "metadata": {},
     "output_type": "display_data"
    }
   ],
   "source": [
    "# Plotting ROC plots for the random forrest classifier and the logistic regression classifier\n",
    "\n",
    "rl_fpr, rl_tpr, _ = roc_curve(y_test, log_regP[:,1])\n",
    "rf_fpr, rf_tpr, _ = roc_curve(y_test, random_forrestP[:,1])\n",
    "rn_fpr, rn_tpr, _ = roc_curve(y_test, naive_baiiyesP[:,1])\n",
    "\n",
    "plt.plot(rl_fpr, rl_tpr, linestyle='--', label='Logistic Regression (AUROC = %0.3f)' % rl_auc)\n",
    "plt.plot(rf_fpr, rf_tpr, marker='.', label='Random Forest (AUROC = %0.3f)' % rf_auc)\n",
    "plt.plot(rn_fpr, rn_tpr, marker='.', label='Random Forest (AUROC = %0.3f)' % rn_auc)\n",
    "\n",
    "# Title\n",
    "plt.title('ROC Plot')\n",
    "# Axis labels\n",
    "plt.xlabel('False Positive Rate')\n",
    "plt.ylabel('True Positive Rate')\n",
    "# Show legend\n",
    "plt.legend() # \n",
    "# Show plot\n",
    "plt.show()"
   ]
  }
 ],
 "metadata": {
  "kernelspec": {
   "display_name": "mlEnv",
   "language": "python",
   "name": "mlenv"
  },
  "language_info": {
   "codemirror_mode": {
    "name": "ipython",
    "version": 3
   },
   "file_extension": ".py",
   "mimetype": "text/x-python",
   "name": "python",
   "nbconvert_exporter": "python",
   "pygments_lexer": "ipython3",
   "version": "3.8.15"
  }
 },
 "nbformat": 4,
 "nbformat_minor": 5
}
